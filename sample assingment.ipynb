{
 "cells": [
  {
   "cell_type": "code",
   "execution_count": 2,
   "id": "23300665",
   "metadata": {},
   "outputs": [
    {
     "name": "stdout",
     "output_type": "stream",
     "text": [
      "a\n"
     ]
    }
   ],
   "source": [
    "assingment no 1\n",
    "\n",
    "jsdfln;hburnjvnhbbbrtggh"
   ]
  },
  {
   "cell_type": "code",
   "execution_count": 1,
   "id": "22658afd",
   "metadata": {},
   "outputs": [
    {
     "name": "stdout",
     "output_type": "stream",
     "text": [
      "a+b\n"
     ]
    }
   ],
   "source": [
    "assingment 2\n",
    "eraiieuhikdfgkdbdhkvbxdbv"
   ]
  },
  {
   "cell_type": "code",
   "execution_count": null,
   "id": "331787c4",
   "metadata": {},
   "outputs": [],
   "source": [
    "assingment 3dfljnhdlihdkbjnfkb"
   ]
  },
  {
   "cell_type": "code",
   "execution_count": null,
   "id": "d10556bf",
   "metadata": {},
   "outputs": [],
   "source": []
  }
 ],
 "metadata": {
  "kernelspec": {
   "display_name": "Python 3 (ipykernel)",
   "language": "python",
   "name": "python3"
  },
  "language_info": {
   "codemirror_mode": {
    "name": "ipython",
    "version": 3
   },
   "file_extension": ".py",
   "mimetype": "text/x-python",
   "name": "python",
   "nbconvert_exporter": "python",
   "pygments_lexer": "ipython3",
   "version": "3.9.7"
  }
 },
 "nbformat": 4,
 "nbformat_minor": 5
}
